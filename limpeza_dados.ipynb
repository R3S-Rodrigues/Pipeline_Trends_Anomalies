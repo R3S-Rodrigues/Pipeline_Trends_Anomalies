{
 "cells": [
  {
   "cell_type": "code",
   "execution_count": null,
   "id": "dae71efa",
   "metadata": {},
   "outputs": [
    {
     "name": "stdout",
     "output_type": "stream",
     "text": [
      "\n",
      " Limpeza, padronização e organização concluídas com sucesso!\n",
      "\n",
      " Visualização dos primeiros registros tratados:\n",
      "\n",
      "    timestamp  producoes_de_oleo_m3\n",
      "0  2024/01/01               139.214\n",
      "1  2024/01/02                 0.000\n",
      "2  2024/01/03               102.821\n",
      "3  2024/01/04                76.128\n",
      "4  2024/01/05                89.816\n"
     ]
    }
   ],
   "source": [
    "# Limpeza e Organização de Dados\n",
    "\n",
    "import pandas as pd # \n",
    "import numpy as np\n",
    "import unicodedata\n",
    "import re\n",
    "\n",
    "# Carregar os dados\n",
    "caminho = r'c:\\Users\\RODRIGUES\\Desktop\\ANALISE_EXPLORATORIO\\PIPELINE\\DADOS_TEMPORAL_2024.csv'\n",
    "df = pd.read_csv(caminho)\n",
    "\n",
    "# Função para limpar nomes das colunas\n",
    "def limpar_nome_coluna(coluna):\n",
    "    coluna = unicodedata.normalize('NFKD', coluna).encode('ASCII', 'ignore').decode('utf-8')  # Remove acentuação\n",
    "    coluna = re.sub(r'[^\\w\\s]', '', coluna)        # Remove símbolos especiais\n",
    "    coluna = re.sub(r'[\\s\\-]+', '_', coluna)       # Substitui espaços/traços por \"_\"\n",
    "    return coluna.lower()                          # Converte para minúsculas\n",
    "\n",
    "#  Aplicar limpeza nos nomes das colunas\n",
    "df.columns = [limpar_nome_coluna(col) for col in df.columns]\n",
    "\n",
    "# Eliminar colunas irrelevantes (ajuste conforme necessário)\n",
    "colunas_remover = ['id', 'producao_de_gas_nao_associado_mm3', 'producao_de_agua_m3']\n",
    "df.drop(columns=[col for col in colunas_remover if col in df.columns], inplace=True)\n",
    "\n",
    "#  Preencher valores nulos com média ou default\n",
    "df.fillna({\n",
    "    'campo_quantitativo': df['campo_quantitativo'].mean() if 'campo_quantitativo' in df.columns else 0,\n",
    "    'campo_categorico': 'desconhecido'\n",
    "}, inplace=True)\n",
    "\n",
    "#  Remover duplicatas\n",
    "df.drop_duplicates(inplace=True)\n",
    "\n",
    "#  Corrigir tipos de dados\n",
    "if 'data' in df.columns:\n",
    "    df['data'] = pd.to_datetime(df['data'], errors='coerce')\n",
    "if 'valor' in df.columns:\n",
    "    df['valor'] = pd.to_numeric(df['valor'], errors='coerce')\n",
    "\n",
    "#  Ordenar e criar colunas derivadas\n",
    "if 'data' in df.columns:\n",
    "    df.sort_values(by='data', ascending=True, inplace=True)\n",
    "    df['ano'] = df['data'].dt.year\n",
    "    df['mes'] = df['data'].dt.month\n",
    "\n",
    "#  Agrupamento por categoria (ajuste conforme estrutura)\n",
    "if 'categoria' in df.columns and 'valor' in df.columns:\n",
    "    resumo = df.groupby('categoria')['valor'].agg(['mean', 'sum', 'count']).reset_index()\n",
    "else:\n",
    "    resumo = pd.DataFrame()\n",
    "\n",
    "#  Exportar os resultados\n",
    "df.to_csv('dados_limpos.csv', index=False)\n",
    "if not resumo.empty:\n",
    "    resumo.to_csv('resumo_categorico.csv', index=False)\n",
    "\n",
    "# visualização\n",
    "print(\"\\n Limpeza, padronização e organização concluídas com sucesso!\\n\")\n",
    "print(\" Visualização dos registros tratados:\\n\")\n",
    "print(df.head())  # Exibe as primeiras 5 linhas do DataFrame"
   ]
  }
 ],
 "metadata": {
  "kernelspec": {
   "display_name": "R3S",
   "language": "python",
   "name": "venv"
  },
  "language_info": {
   "codemirror_mode": {
    "name": "ipython",
    "version": 3
   },
   "file_extension": ".py",
   "mimetype": "text/x-python",
   "name": "python",
   "nbconvert_exporter": "python",
   "pygments_lexer": "ipython3",
   "version": "3.13.0"
  }
 },
 "nbformat": 4,
 "nbformat_minor": 5
}
